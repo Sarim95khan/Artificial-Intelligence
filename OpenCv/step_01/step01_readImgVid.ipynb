{
 "cells": [
  {
   "cell_type": "code",
   "execution_count": 1,
   "metadata": {},
   "outputs": [],
   "source": [
    "import cv2 as cv"
   ]
  },
  {
   "cell_type": "code",
   "execution_count": 2,
   "metadata": {},
   "outputs": [
    {
     "data": {
      "text/plain": [
       "-1"
      ]
     },
     "execution_count": 2,
     "metadata": {},
     "output_type": "execute_result"
    }
   ],
   "source": [
    "# Reading Images\n",
    "img = cv.imread('Photos/cat_large.jpg')\n",
    "cv.imshow('Cat',img)\n",
    "cv.waitKey(0)"
   ]
  },
  {
   "cell_type": "code",
   "execution_count": 4,
   "metadata": {},
   "outputs": [
    {
     "ename": "error",
     "evalue": "OpenCV(4.8.1) D:\\a\\opencv-python\\opencv-python\\opencv\\modules\\highgui\\src\\window.cpp:971: error: (-215:Assertion failed) size.width>0 && size.height>0 in function 'cv::imshow'\n",
     "output_type": "error",
     "traceback": [
      "\u001b[1;31m---------------------------------------------------------------------------\u001b[0m",
      "\u001b[1;31merror\u001b[0m                                     Traceback (most recent call last)",
      "\u001b[1;32me:\\IT Craft\\Hello World\\Gen_AI_python\\OpenCv\\step_01\\step_01.ipynb Cell 3\u001b[0m line \u001b[0;36m7\n\u001b[0;32m      <a href='vscode-notebook-cell:/e%3A/IT%20Craft/Hello%20World/Gen_AI_python/OpenCv/step_01/step_01.ipynb#W2sZmlsZQ%3D%3D?line=3'>4</a>\u001b[0m \u001b[39mwhile\u001b[39;00m \u001b[39mTrue\u001b[39;00m:\n\u001b[0;32m      <a href='vscode-notebook-cell:/e%3A/IT%20Craft/Hello%20World/Gen_AI_python/OpenCv/step_01/step_01.ipynb#W2sZmlsZQ%3D%3D?line=4'>5</a>\u001b[0m     isTrue, frame \u001b[39m=\u001b[39m capture\u001b[39m.\u001b[39mread()\n\u001b[1;32m----> <a href='vscode-notebook-cell:/e%3A/IT%20Craft/Hello%20World/Gen_AI_python/OpenCv/step_01/step_01.ipynb#W2sZmlsZQ%3D%3D?line=6'>7</a>\u001b[0m     cv\u001b[39m.\u001b[39;49mimshow(\u001b[39m'\u001b[39;49m\u001b[39mVideo\u001b[39;49m\u001b[39m'\u001b[39;49m,frame)\n\u001b[0;32m      <a href='vscode-notebook-cell:/e%3A/IT%20Craft/Hello%20World/Gen_AI_python/OpenCv/step_01/step_01.ipynb#W2sZmlsZQ%3D%3D?line=7'>8</a>\u001b[0m     \u001b[39mif\u001b[39;00m cv\u001b[39m.\u001b[39mwaitKey(\u001b[39m20\u001b[39m) \u001b[39m&\u001b[39m \u001b[39m0xFF\u001b[39m \u001b[39m==\u001b[39m \u001b[39mord\u001b[39m(\u001b[39m'\u001b[39m\u001b[39md\u001b[39m\u001b[39m'\u001b[39m):\n\u001b[0;32m      <a href='vscode-notebook-cell:/e%3A/IT%20Craft/Hello%20World/Gen_AI_python/OpenCv/step_01/step_01.ipynb#W2sZmlsZQ%3D%3D?line=8'>9</a>\u001b[0m         \u001b[39mbreak\u001b[39;00m\n",
      "\u001b[1;31merror\u001b[0m: OpenCV(4.8.1) D:\\a\\opencv-python\\opencv-python\\opencv\\modules\\highgui\\src\\window.cpp:971: error: (-215:Assertion failed) size.width>0 && size.height>0 in function 'cv::imshow'\n"
     ]
    }
   ],
   "source": [
    "# Reading Videos\n",
    "capture = cv.VideoCapture('Videos/dog.mp4')\n",
    "\n",
    "while True:\n",
    "    isTrue, frame = capture.read()\n",
    "\n",
    "    cv.imshow('Video',frame)\n",
    "    if cv.waitKey(20) & 0xFF == ord('d'):\n",
    "        break\n",
    "\n",
    "capture.release()\n",
    "cv.destroyAllWindows()"
   ]
  },
  {
   "cell_type": "markdown",
   "metadata": {},
   "source": [
    "#Resizing methods form image, videos and Live Videos"
   ]
  },
  {
   "cell_type": "code",
   "execution_count": 19,
   "metadata": {},
   "outputs": [
    {
     "data": {
      "text/plain": [
       "-1"
      ]
     },
     "execution_count": 19,
     "metadata": {},
     "output_type": "execute_result"
    }
   ],
   "source": [
    "# Resizing image\n",
    "\n",
    "def rescaleFrame(frame,scale=0.75):\n",
    "    width = int(frame.shape[1]*scale)\n",
    "    height = int(frame.shape[0]*scale)\n",
    "    dimensions = (width,height)\n",
    "\n",
    "    return cv.resize(frame,dimensions,interpolation=cv.INTER_AREA)\n",
    "\n",
    "img = cv.imread('Photos/cat.jpg')\n",
    "resize_image = rescaleFrame(img,0.4)\n",
    "\n",
    "cv.imshow('Cat',resize_image)\n",
    "cv.waitKey(0)"
   ]
  },
  {
   "cell_type": "code",
   "execution_count": 15,
   "metadata": {},
   "outputs": [],
   "source": [
    "#Resizing Videos\n",
    "def rescaleFrame(frame, scale=0.75):\n",
    "    width = int(frame.shape[1]*scale)\n",
    "    height = int(frame.shape[0]*scale)\n",
    "    dimensions = (width,height)\n",
    "\n",
    "    return cv.resize(frame,dimensions,interpolation=cv.INTER_AREA )\n",
    "\n",
    "# Read Videos\n",
    "capture = cv.VideoCapture('Videos/dog.mp4')\n",
    "\n",
    "while(True):\n",
    "   isTrue, frame = capture.read()\n",
    "   resizedVideo = rescaleFrame(frame,scale=0.2)\n",
    "   cv.imshow('Video',frame)\n",
    "   cv.imshow('Video Resized',frame)\n",
    "   if cv.waitKey(20) & 0xFF==ord('d'):\n",
    "       break\n",
    "capture.release()\n",
    "cv.destroyAllWindows()"
   ]
  },
  {
   "cell_type": "markdown",
   "metadata": {},
   "source": [
    "Resizing method for Live Videos"
   ]
  },
  {
   "cell_type": "code",
   "execution_count": null,
   "metadata": {},
   "outputs": [],
   "source": [
    "def changeRes(width,height):\n",
    "    capture.set(3,width)\n",
    "    capture.set(4,height)"
   ]
  }
 ],
 "metadata": {
  "kernelspec": {
   "display_name": "opencv",
   "language": "python",
   "name": "python3"
  },
  "language_info": {
   "codemirror_mode": {
    "name": "ipython",
    "version": 3
   },
   "file_extension": ".py",
   "mimetype": "text/x-python",
   "name": "python",
   "nbconvert_exporter": "python",
   "pygments_lexer": "ipython3",
   "version": "3.11.5"
  }
 },
 "nbformat": 4,
 "nbformat_minor": 2
}
